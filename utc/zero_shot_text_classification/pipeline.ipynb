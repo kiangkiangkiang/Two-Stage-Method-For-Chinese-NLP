{
 "cells": [
  {
   "cell_type": "code",
   "execution_count": null,
   "metadata": {},
   "outputs": [],
   "source": [
    "# merge all json data in labelstudio_data/\n",
    "python read_and_merge_data.py   "
   ]
  },
  {
   "cell_type": "code",
   "execution_count": null,
   "metadata": {},
   "outputs": [],
   "source": [
    "# split merged data (read_and_merge_data.py output) into train/test/dev\n",
    "python label_studio.py  --options ./labelstudio_data/label.txt"
   ]
  },
  {
   "cell_type": "code",
   "execution_count": null,
   "metadata": {},
   "outputs": [],
   "source": [
    "python run_train.py  \\\n",
    "    --device gpu \\\n",
    "    --logging_steps 5 \\\n",
    "    --save_steps 100 \\\n",
    "    --eval_steps 100 \\\n",
    "    --seed 1000 \\\n",
    "    --model_name_or_path utc-base \\\n",
    "    --output_dir ./checkpoint/model_best \\\n",
    "    --dataset_path ./data/ \\\n",
    "    --max_seq_length 1800  \\\n",
    "    --per_device_train_batch_size 4 \\\n",
    "    --per_device_eval_batch_size 4 \\\n",
    "    --num_train_epochs 20 \\\n",
    "    --learning_rate 1e-6 \\\n",
    "    --do_train \\\n",
    "    --do_eval \\\n",
    "    --do_export \\\n",
    "    --export_model_dir ./checkpoint/model_best \\\n",
    "    --overwrite_output_dir \\\n",
    "    --disable_tqdm True \\\n",
    "    --metric_for_best_model macro_f1 \\\n",
    "    --load_best_model_at_end  True \\\n",
    "    --save_total_limit 1 \\\n",
    "    --save_plm"
   ]
  },
  {
   "cell_type": "code",
   "execution_count": null,
   "metadata": {},
   "outputs": [],
   "source": [
    "python run_train.py  \\\n",
    "    --device gpu \\\n",
    "    --logging_steps 5 \\\n",
    "    --save_steps 20 \\\n",
    "    --eval_steps 20 \\\n",
    "    --seed 1000 \\\n",
    "    --model_name_or_path utc-base \\\n",
    "    --output_dir ./checkpoint/model_best \\\n",
    "    --dataset_path ./clean_data/ \\\n",
    "    --max_seq_length 512  \\\n",
    "    --per_device_train_batch_size 32 \\\n",
    "    --per_device_eval_batch_size 32 \\\n",
    "    --num_train_epochs 50 \\\n",
    "    --learning_rate 1e-5 \\\n",
    "    --do_train \\\n",
    "    --do_eval \\\n",
    "    --do_export \\\n",
    "    --do_predict \\\n",
    "    --export_model_dir ./checkpoint/model_best \\\n",
    "    --overwrite_output_dir \\\n",
    "    --disable_tqdm True \\\n",
    "    --metric_for_best_model macro_f1 \\\n",
    "    --load_best_model_at_end  True \\\n",
    "    --save_total_limit 1 \\\n",
    "    --save_plm"
   ]
  },
  {
   "cell_type": "code",
   "execution_count": null,
   "metadata": {},
   "outputs": [],
   "source": []
  },
  {
   "cell_type": "markdown",
   "metadata": {},
   "source": [
    "Get all data\n",
    "\n",
    "python label_studio.py --save_dir ./all_data --splits 1 0 0 --options labelstudio_data/label.txt\n"
   ]
  }
 ],
 "metadata": {
  "kernelspec": {
   "display_name": "Python 3.8.10 ('venv_pytorch': venv)",
   "language": "python",
   "name": "python3"
  },
  "language_info": {
   "name": "python",
   "version": "3.8.10"
  },
  "orig_nbformat": 4,
  "vscode": {
   "interpreter": {
    "hash": "cf46acb013efd0588f6afec6d5cfc3a8d59196ff594941befc7df90c31a68b6c"
   }
  }
 },
 "nbformat": 4,
 "nbformat_minor": 2
}
