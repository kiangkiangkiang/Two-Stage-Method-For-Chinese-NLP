{
 "cells": [
  {
   "cell_type": "code",
   "execution_count": null,
   "metadata": {},
   "outputs": [],
   "source": [
    "# merge all json data in labelstudio_data/\n",
    "python read_and_merge_data.py   "
   ]
  },
  {
   "cell_type": "code",
   "execution_count": null,
   "metadata": {},
   "outputs": [],
   "source": [
    "# split merged data (read_and_merge_data.py output) into train/test/dev\n",
    "python label_studio.py  --options ./labelstudio_data/label.txt"
   ]
  },
  {
   "cell_type": "code",
   "execution_count": null,
   "metadata": {},
   "outputs": [],
   "source": [
    "\n",
    "python run_train.py  \\\n",
    "    --device gpu \\\n",
    "    --logging_steps 5 \\\n",
    "    --save_steps 100 \\\n",
    "    --eval_steps 100 \\\n",
    "    --seed 1000 \\\n",
    "    --model_name_or_path utc-base \\\n",
    "    --output_dir ./checkpoint/model_best \\\n",
    "    --dataset_path ./data/ \\\n",
    "    --max_seq_length 512  \\\n",
    "    --per_device_train_batch_size 16 \\\n",
    "    --per_device_eval_batch_size 16 \\\n",
    "    --num_train_epochs 20 \\\n",
    "    --learning_rate 3e-6 \\\n",
    "    --do_train \\\n",
    "    --do_eval \\\n",
    "    --do_export \\\n",
    "    --export_model_dir ./checkpoint/model_best \\\n",
    "    --overwrite_output_dir \\\n",
    "    --disable_tqdm True \\\n",
    "    --metric_for_best_model macro_f1 \\\n",
    "    --load_best_model_at_end  True \\\n",
    "    --save_total_limit 1 \\\n",
    "    --save_plm"
   ]
  }
 ],
 "metadata": {
  "kernelspec": {
   "display_name": "Python 3.8.10 ('venv_pytorch': venv)",
   "language": "python",
   "name": "python3"
  },
  "language_info": {
   "name": "python",
   "version": "3.8.10"
  },
  "orig_nbformat": 4,
  "vscode": {
   "interpreter": {
    "hash": "cf46acb013efd0588f6afec6d5cfc3a8d59196ff594941befc7df90c31a68b6c"
   }
  }
 },
 "nbformat": 4,
 "nbformat_minor": 2
}
