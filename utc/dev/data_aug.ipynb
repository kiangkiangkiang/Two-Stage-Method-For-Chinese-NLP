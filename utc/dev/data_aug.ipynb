{
 "cells": [
  {
   "cell_type": "markdown",
   "metadata": {},
   "source": [
    "#### 資料"
   ]
  },
  {
   "cell_type": "code",
   "execution_count": 1,
   "metadata": {},
   "outputs": [
    {
     "name": "stdout",
     "output_type": "stream",
     "text": [
      "python: can't open file 'label_studio.py': [Errno 2] No such file or directory\n"
     ]
    }
   ],
   "source": [
    "# get all data\n",
    "!python label_studio.py --save_dir ./all_data --splits 1 0 0 --options labelstudio_data/label.txt"
   ]
  },
  {
   "cell_type": "code",
   "execution_count": 3,
   "metadata": {},
   "outputs": [
    {
     "name": "stdout",
     "output_type": "stream",
     "text": [
      "875\n",
      "Label 0, 頭頸部: 265.\n",
      "Label 1, 臉: 173.\n",
      "Label 2, 胸部: 186.\n",
      "Label 3, 腹部: 117.\n",
      "Label 4, 背部: 64.\n",
      "Label 5, 骨盆: 92.\n",
      "Label 6, 上肢: 426.\n",
      "Label 7, 下肢: 513.\n",
      "Label 8, 其他: 52.\n",
      "Label 9, 骨折: 404.\n",
      "Label 10, 骨裂: 3.\n",
      "Label 11, 擦挫傷: 460.\n",
      "Label 12, 撕裂傷: 138.\n",
      "Label 13, 鈍傷: 59.\n",
      "Label 14, 損傷: 100.\n",
      "Label 15, 胸部損傷: 44.\n",
      "Label 16, 神經損傷: 64.\n",
      "Label 17, 拉傷: 19.\n",
      "Label 18, 扭傷: 34.\n",
      "Label 19, 灼傷: 6.\n",
      "Label 20, 脫位: 68.\n",
      "Label 21, 壓迫: 41.\n",
      "Label 22, 破缺損: 112.\n",
      "Label 23, 腦震盪: 62.\n",
      "Label 24, 壞死: 8.\n",
      "Label 25, 內出血: 113.\n",
      "Label 26, 水腫: 0.\n",
      "Label 27, 瘀血: 27.\n",
      "Label 28, 栓塞: 1.\n",
      "Label 29, 剝離: 0.\n",
      "Label 30, 截肢: 6.\n",
      "Label 31, 衰竭: 9.\n",
      "Label 32, 休克: 10.\n",
      "Label 33, 失能: 13.\n",
      "Label 34, 死亡: 29.\n",
      "Label 35, 其他: 0.\n",
      "Label 36, 肇責 0/100: 96.\n",
      "Label 37, 肇責 10/90: 11.\n",
      "Label 38, 肇責 20/80: 39.\n",
      "Label 39, 肇責 30/70: 106.\n",
      "Label 40, 肇責 40/60: 33.\n",
      "Label 41, 肇責 50/50: 52.\n",
      "Label 42, 肇責 60/40: 47.\n",
      "Label 43, 肇責 70/30: 49.\n",
      "Label 44, 肇責 80/20: 8.\n",
      "Label 45, 肇責 90/10: 2.\n",
      "Label 46, 肇責 100/0: 15.\n",
      "Label 47, 未滿18歲(高中以下): 10.\n",
      "Label 48, 18-24歲(大學、研究所): 40.\n",
      "Label 49, 25-29歲: 23.\n",
      "Label 50, 30-39歲: 38.\n",
      "Label 51, 40-49歲: 40.\n",
      "Label 52, 50-59歲: 41.\n",
      "Label 53, 60-64歲: 15.\n",
      "Label 54, 65歲以上(退休): 48.\n"
     ]
    }
   ],
   "source": [
    "import os\n",
    "import json\n",
    "\n",
    "this_dir = \"/home/ubuntu/work/verdict-cls-debug/utc/zero_shot_text_classification/data/label.txt\"\n",
    "\n",
    "def collect_label_information(\n",
    "    label_file: str = \"/home/ubuntu/work_debug/verdict-cls-debug/utc/zero_shot_text_classification/data/label.txt\",\n",
    "):\n",
    "    label_name = []\n",
    "    label_count = {}\n",
    "    with open(label_file, \"r\") as f:\n",
    "        for i, name in enumerate(f):\n",
    "            label_count[i] = 0\n",
    "            label_name.append(name.strip())\n",
    "    return label_name, label_count\n",
    "\n",
    "\n",
    "currentdir = os.getcwd()\n",
    "filedir = \"zero_shot_text_classification/all_data/train.txt\"\n",
    "label_name, label_distribution = collect_label_information(this_dir)\n",
    "total_num_of_label = len(label_name)\n",
    "all_data = []\n",
    "\n",
    "\n",
    "dir = os.path.join(currentdir, filedir)\n",
    "with open(dir, \"r\", encoding=\"utf8\") as f:\n",
    "    # tmp = f.readlines()\n",
    "    for i in f:\n",
    "        this_json = json.loads(i)\n",
    "        all_data.append(this_json)\n",
    "        for each_label in this_json[\"labels\"]:\n",
    "            label_distribution[each_label] += 1\n",
    "\n",
    "print(len(all_data))\n",
    "for each_label, each_name in zip(label_distribution, label_name):\n",
    "    print(f\"Label {each_label}, {each_name}: {label_distribution[each_label]}.\")\n",
    "\n",
    "def get_label_less_than(threshold = 10):\n",
    "    print(f\"------ All labels which cases are less than {threshold} are shown as follow. -----\")\n",
    "    result = {}\n",
    "    for each_label, each_name in zip(label_distribution, label_name):\n",
    "        if label_distribution[each_label] < threshold:\n",
    "            print(f\"Label: {each_label}, {each_name} is {label_distribution[each_label]}.\")\n",
    "            result[each_label] = (label_distribution[each_label], each_name)\n",
    "    return result\n",
    "\n",
    "              "
   ]
  },
  {
   "cell_type": "code",
   "execution_count": 27,
   "metadata": {},
   "outputs": [],
   "source": [
    "# write data\n",
    "data_type = ['train', 'dev', 'test']\n",
    "def split_data(data, split_ratio=[0.8, 0.1, 0.1], folder_name: str = \"remove_sparse_data\"):\n",
    "    p1 = int(len(data) * split_ratio[0])\n",
    "    p2 = int(len(data) * split_ratio[1])\n",
    "    output_data = (data[:p1], data[p1:(p1+p2)], data[(p1+p2):])\n",
    "    \n",
    "    for each_data_type, out_data in zip(data_type, output_data):\n",
    "        with open(os.path.join(os.getcwd(), \"zero_shot_text_classification/\", folder_name, each_data_type+ \".txt\"), 'w', encoding='utf-8') as outfile:\n",
    "            for i in out_data:\n",
    "                jsonString = json.dumps(i, ensure_ascii=False, default=int)\n",
    "                outfile.writelines(jsonString)\n",
    "                outfile.writelines('\\n')"
   ]
  },
  {
   "cell_type": "markdown",
   "metadata": {},
   "source": [
    "#### Case 1. 類別少於 Threshold 則刪除該類別"
   ]
  },
  {
   "cell_type": "code",
   "execution_count": 29,
   "metadata": {},
   "outputs": [
    {
     "name": "stdout",
     "output_type": "stream",
     "text": [
      "------ All labels which cases are less than 100 are shown as follow. -----\n",
      "Label: 4, 背部 is 64.\n",
      "Label: 5, 骨盆 is 92.\n",
      "Label: 8, 其他 is 52.\n",
      "Label: 10, 骨裂 is 3.\n",
      "Label: 13, 鈍傷 is 59.\n",
      "Label: 15, 胸部損傷 is 44.\n",
      "Label: 16, 神經損傷 is 64.\n",
      "Label: 17, 拉傷 is 19.\n",
      "Label: 18, 扭傷 is 34.\n",
      "Label: 19, 灼傷 is 6.\n",
      "Label: 20, 脫位 is 68.\n",
      "Label: 21, 壓迫 is 41.\n",
      "Label: 23, 腦震盪 is 62.\n",
      "Label: 24, 壞死 is 8.\n",
      "Label: 26, 水腫 is 0.\n",
      "Label: 27, 瘀血 is 27.\n",
      "Label: 28, 栓塞 is 1.\n",
      "Label: 29, 剝離 is 0.\n",
      "Label: 30, 截肢 is 6.\n",
      "Label: 31, 衰竭 is 9.\n",
      "Label: 32, 休克 is 10.\n",
      "Label: 33, 失能 is 13.\n",
      "Label: 34, 死亡 is 29.\n",
      "Label: 35, 其他 is 0.\n",
      "Label: 36, 肇責 0/100 is 96.\n",
      "Label: 37, 肇責 10/90 is 11.\n",
      "Label: 38, 肇責 20/80 is 39.\n",
      "Label: 40, 肇責 40/60 is 33.\n",
      "Label: 41, 肇責 50/50 is 52.\n",
      "Label: 42, 肇責 60/40 is 47.\n",
      "Label: 43, 肇責 70/30 is 49.\n",
      "Label: 44, 肇責 80/20 is 8.\n",
      "Label: 45, 肇責 90/10 is 2.\n",
      "Label: 46, 肇責 100/0 is 15.\n",
      "Label: 47, 未滿18歲(高中以下) is 10.\n",
      "Label: 48, 18-24歲(大學、研究所) is 40.\n",
      "Label: 49, 25-29歲 is 23.\n",
      "Label: 50, 30-39歲 is 38.\n",
      "Label: 51, 40-49歲 is 40.\n",
      "Label: 52, 50-59歲 is 41.\n",
      "Label: 53, 60-64歲 is 15.\n",
      "Label: 54, 65歲以上(退休) is 48.\n",
      "{4: (64, '背部'), 5: (92, '骨盆'), 8: (52, '其他'), 10: (3, '骨裂'), 13: (59, '鈍傷'), 15: (44, '胸部損傷'), 16: (64, '神經損傷'), 17: (19, '拉傷'), 18: (34, '扭傷'), 19: (6, '灼傷'), 20: (68, '脫位'), 21: (41, '壓迫'), 23: (62, '腦震盪'), 24: (8, '壞死'), 26: (0, '水腫'), 27: (27, '瘀血'), 28: (1, '栓塞'), 29: (0, '剝離'), 30: (6, '截肢'), 31: (9, '衰竭'), 32: (10, '休克'), 33: (13, '失能'), 34: (29, '死亡'), 35: (0, '其他受傷程度'), 36: (96, '肇責 0/100'), 37: (11, '肇責 10/90'), 38: (39, '肇責 20/80'), 40: (33, '肇責 40/60'), 41: (52, '肇責 50/50'), 42: (47, '肇責 60/40'), 43: (49, '肇責 70/30'), 44: (8, '肇責 80/20'), 45: (2, '肇責 90/10'), 46: (15, '肇責 100/0'), 47: (10, '未滿18歲(高中以下)'), 48: (40, '18-24歲(大學、研究所)'), 49: (23, '25-29歲'), 50: (38, '30-39歲'), 51: (40, '40-49歲'), 52: (41, '50-59歲'), 53: (15, '60-64歲'), 54: (48, '65歲以上(退休)')}\n"
     ]
    }
   ],
   "source": [
    "remove_set = get_label_less_than(100)\n",
    "\n",
    "\n",
    "remove_set[35] = (0, \"其他受傷程度\")\n",
    "print(remove_set)\n",
    "def write_label_txt(filedir):\n",
    "    remove_name = []\n",
    "    result = []\n",
    "    for i in remove_set.values():\n",
    "        remove_name.append(i[1])\n",
    "    for i in label_name:\n",
    "        if i not in remove_name:\n",
    "            result.append(i)\n",
    "    with open(filedir, 'w', encoding='utf8') as f:\n",
    "        for i in result:\n",
    "            f.write(i)\n",
    "            f.write(\"\\n\")\n"
   ]
  },
  {
   "cell_type": "code",
   "execution_count": 33,
   "metadata": {},
   "outputs": [
    {
     "ename": "TypeError",
     "evalue": "only size-1 arrays can be converted to Python scalars",
     "output_type": "error",
     "traceback": [
      "\u001b[0;31m---------------------------------------------------------------------------\u001b[0m",
      "\u001b[0;31mTypeError\u001b[0m                                 Traceback (most recent call last)",
      "Cell \u001b[0;32mIn[33], line 41\u001b[0m\n\u001b[1;32m     35\u001b[0m     \u001b[39mreturn\u001b[39;00m result, new_label_distribution\n\u001b[1;32m     38\u001b[0m remove_name \u001b[39m=\u001b[39m [label_name \u001b[39mfor\u001b[39;00m _, label_name \u001b[39min\u001b[39;00m remove_set\u001b[39m.\u001b[39mvalues()]\n\u001b[0;32m---> 41\u001b[0m new_data, new_label_distribution \u001b[39m=\u001b[39m remove_sparse_data()\n",
      "Cell \u001b[0;32mIn[33], line 19\u001b[0m, in \u001b[0;36mremove_sparse_data\u001b[0;34m()\u001b[0m\n\u001b[1;32m     17\u001b[0m \u001b[39mfor\u001b[39;00m remove_label, remove_name \u001b[39min\u001b[39;00m remove_set\u001b[39m.\u001b[39mitems():\n\u001b[1;32m     18\u001b[0m     remove_name \u001b[39m=\u001b[39m remove_name[\u001b[39m1\u001b[39m]\n\u001b[0;32m---> 19\u001b[0m     pop_index \u001b[39m=\u001b[39m \u001b[39mint\u001b[39;49m(np\u001b[39m.\u001b[39;49mwhere(np\u001b[39m.\u001b[39;49marray(example[\u001b[39m'\u001b[39;49m\u001b[39mchoices\u001b[39;49m\u001b[39m'\u001b[39;49m]) \u001b[39m==\u001b[39;49m remove_name)[\u001b[39m0\u001b[39;49m])\n\u001b[1;32m     20\u001b[0m     example[\u001b[39m'\u001b[39m\u001b[39mchoices\u001b[39m\u001b[39m'\u001b[39m]\u001b[39m.\u001b[39mpop(pop_index)\n\u001b[1;32m     22\u001b[0m     \u001b[39mif\u001b[39;00m remove_name \u001b[39min\u001b[39;00m this_label:\n",
      "\u001b[0;31mTypeError\u001b[0m: only size-1 arrays can be converted to Python scalars"
     ]
    }
   ],
   "source": [
    "import numpy as np\n",
    "from collections import defaultdict\n",
    "def remove_sparse_data():\n",
    "    new_label_distribution = defaultdict(int)\n",
    "    result = []\n",
    "    with open(os.path.join(os.getcwd(), \"zero_shot_text_classification/all_data/train.txt\")) as f:\n",
    "        for i in f:\n",
    "            example = json.loads(i)\n",
    "            example['choices'][8] = \"其他體傷部位\"\n",
    "            example['choices'][35] = \"其他受傷程度\"\n",
    "            this_label = []\n",
    "            \n",
    "            for label in example['labels']:\n",
    "                this_label.append(example['choices'][label])        \n",
    "\n",
    "            # remove label\n",
    "            for remove_label, remove_name in remove_set.items():\n",
    "                remove_name = remove_name[1]\n",
    "                pop_index = np.where(np.array(example['choices']) == remove_name)[0][0]\n",
    "                example['choices'].pop(pop_index)\n",
    "                 \n",
    "                if remove_name in this_label:\n",
    "                    pop_index = np.where(np.array(this_label) == remove_name)[0][0]\n",
    "                    this_label.pop(pop_index)\n",
    "\n",
    "            # add new label\n",
    "            new_label = []\n",
    "            \n",
    "            for label in this_label:\n",
    "                label_index = np.where(np.array(example['choices']) == label)[0][0]\n",
    "                new_label_distribution[label_index] += 1\n",
    "                new_label.append(label_index)\n",
    "            example['labels'] = new_label\n",
    "            result.append(example)\n",
    "    return result, new_label_distribution\n",
    "\n",
    "\n",
    "remove_name = [label_name for _, label_name in remove_set.values()]\n",
    "\n",
    "\n",
    "new_data, new_label_distribution = remove_sparse_data()"
   ]
  },
  {
   "cell_type": "code",
   "execution_count": 32,
   "metadata": {},
   "outputs": [
    {
     "data": {
      "text/plain": [
       "[(0, 265),\n",
       " (1, 173),\n",
       " (2, 186),\n",
       " (3, 117),\n",
       " (4, 64),\n",
       " (5, 92),\n",
       " (6, 426),\n",
       " (7, 513),\n",
       " (8, 52),\n",
       " (9, 404),\n",
       " (10, 460),\n",
       " (11, 138),\n",
       " (12, 59),\n",
       " (13, 100),\n",
       " (14, 64),\n",
       " (15, 68),\n",
       " (16, 112),\n",
       " (17, 62),\n",
       " (18, 113),\n",
       " (19, 96),\n",
       " (20, 106),\n",
       " (21, 52)]"
      ]
     },
     "execution_count": 32,
     "metadata": {},
     "output_type": "execute_result"
    }
   ],
   "source": [
    "new_label_distribution\n",
    "sorted(new_label_distribution.items(), key=lambda x: x[0])"
   ]
  },
  {
   "cell_type": "code",
   "execution_count": 28,
   "metadata": {},
   "outputs": [],
   "source": [
    "split_data(new_data)\n",
    "write_label_txt(\"/home/ubuntu/work/verdict-cls-debug/utc/zero_shot_text_classification/remove_sparse_data/label.txt\")\n",
    "# text = \"\\n\".join([str({'b':2}),str({'a':1})])\n",
    "# with open('try.txt','w') as f:\n",
    "#    f.write(text)"
   ]
  },
  {
   "cell_type": "markdown",
   "metadata": {},
   "source": [
    "#### Case 2. 類別合併"
   ]
  },
  {
   "cell_type": "code",
   "execution_count": 25,
   "metadata": {},
   "outputs": [],
   "source": []
  },
  {
   "cell_type": "markdown",
   "metadata": {},
   "source": [
    "#### Case 3. 複製少量類別的樣本"
   ]
  },
  {
   "cell_type": "code",
   "execution_count": null,
   "metadata": {},
   "outputs": [],
   "source": []
  }
 ],
 "metadata": {
  "kernelspec": {
   "display_name": "Python 3.8.10 ('venv_pytorch': venv)",
   "language": "python",
   "name": "python3"
  },
  "language_info": {
   "codemirror_mode": {
    "name": "ipython",
    "version": 3
   },
   "file_extension": ".py",
   "mimetype": "text/x-python",
   "name": "python",
   "nbconvert_exporter": "python",
   "pygments_lexer": "ipython3",
   "version": "3.8.10"
  },
  "orig_nbformat": 4,
  "vscode": {
   "interpreter": {
    "hash": "cf46acb013efd0588f6afec6d5cfc3a8d59196ff594941befc7df90c31a68b6c"
   }
  }
 },
 "nbformat": 4,
 "nbformat_minor": 2
}
