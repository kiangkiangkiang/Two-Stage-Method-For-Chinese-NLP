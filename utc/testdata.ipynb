{
 "cells": [
  {
   "cell_type": "code",
   "execution_count": 9,
   "metadata": {},
   "outputs": [],
   "source": [
    "import os\n",
    "import json\n",
    "from collections import defaultdict\n",
    "\n",
    "\n",
    "def collect_label_information(\n",
    "    label_file: str = \"/home/ubuntu/work_debug/verdict-cls-debug/utc/zero_shot_text_classification/data/label.txt\",\n",
    "):\n",
    "    label_name = []\n",
    "    label_count = {}\n",
    "    with open(label_file, \"r\") as f:\n",
    "        for i, name in enumerate(f):\n",
    "            label_count[i] = 0\n",
    "            label_name.append(name.strip())\n",
    "    return label_name, label_count\n",
    "\n",
    "\n",
    "currentdir = os.getcwd()\n",
    "filedir = \"zero_shot_text_classification/data\"\n",
    "data_name = [\"train\", \"dev\", \"test\"]\n",
    "total_num_of_label = 55\n",
    "all_data = defaultdict(list)\n",
    "label_name, tmp = collect_label_information()\n",
    "label_distribution = {i: tmp.copy() for i in data_name + [\"total\"]}\n",
    "\n",
    "\n",
    "for each_data in data_name:\n",
    "    dir = os.path.join(currentdir, filedir, each_data + \".txt\")\n",
    "    with open(dir, \"r\", encoding=\"utf8\") as f:\n",
    "        # tmp = f.readlines()\n",
    "        for i in f:\n",
    "            this_json = json.loads(i)\n",
    "            all_data[each_data].append(this_json)\n",
    "            for each_label in this_json[\"labels\"]:\n",
    "                label_distribution[each_data][each_label] += 1\n",
    "                label_distribution[\"total\"][each_label] += 1\n",
    "                "
   ]
  },
  {
   "cell_type": "code",
   "execution_count": null,
   "metadata": {},
   "outputs": [],
   "source": [
    "\n",
    "import numpy as np\n",
    "import matplotlib.pyplot as plt\n",
    "\n",
    "# 中文設定\n",
    "# plt.rcParams['font.sans-serif'] = ['Microsoft JhengHei'] \n",
    "# plt.rcParams['axes.unicode_minus'] = False\n",
    "plt.rc('font', family='Microsoft JhengHei')\n",
    "\n",
    "# creating the dataset\n",
    "data = label_distribution[\"train\"]\n",
    "each_label = list(data.keys())\n",
    "label_counts = list(data.values())\n",
    "\n",
    "# fig = plt.figure(figsize=(10, 5))\n",
    "this_width = 0.6\n",
    "fig, ax = plt.subplots(figsize = (10, 4))\n",
    "ax.bar(each_label, label_distribution[\"train\"].values(), width=this_width/2, color='blue')\n",
    "ax.bar(np.array(each_label)+this_width/2, label_distribution[\"dev\"].values(), width=this_width/2, color='forestgreen')\n",
    "ax.bar(np.array(each_label)+this_width/2+this_width/2, label_distribution[\"test\"].values(), width=this_width/2, color='red')\n",
    "\n",
    "\n",
    "ax.set_xticks(each_label)\n",
    "# ax.set_xticklabels(label_name, rotation=65)\n",
    "ax.legend(['training', 'dev', 'red'])\n",
    "ax.set_xlabel('label')\n",
    "ax.set_ylabel('counts')\n",
    "\n",
    "fig.tight_layout()\n",
    "\n",
    "plt.show()"
   ]
  },
  {
   "cell_type": "code",
   "execution_count": null,
   "metadata": {},
   "outputs": [],
   "source": [
    "for data_type in label_distribution:\n",
    "    for each_label, each_name in zip(label_distribution[data_type], label_name):\n",
    "        if label_distribution[data_type][each_label] == 0:\n",
    "            print(f\"In {data_type} dataset, label: {each_label}, {each_name} is 0.\")"
   ]
  },
  {
   "cell_type": "code",
   "execution_count": 29,
   "metadata": {},
   "outputs": [
    {
     "name": "stdout",
     "output_type": "stream",
     "text": [
      "Training data has no 肇責 90/10 label. But dev has 1 cases in this label.\n"
     ]
    }
   ],
   "source": [
    "for each_label, each_name in zip(label_distribution['train'], label_name):\n",
    "    if label_distribution['train'][each_label] == 0:\n",
    "        if label_distribution['dev'][each_label] != 0:\n",
    "            print(f\"Training data has no {each_name} label ({each_label}). But dev has {label_distribution['dev'][each_label]} cases in this label.\")\n",
    "        if label_distribution['test'][each_label] != 0:\n",
    "            print(f\"Training data has no {each_name} label ({each_label}). But test has {label_distribution['test'][each_label]} cases in this label.\")\n",
    "\n"
   ]
  }
 ],
 "metadata": {
  "kernelspec": {
   "display_name": "Python 3.10.11 ('pytorch')",
   "language": "python",
   "name": "python3"
  },
  "language_info": {
   "codemirror_mode": {
    "name": "ipython",
    "version": 3
   },
   "file_extension": ".py",
   "mimetype": "text/x-python",
   "name": "python",
   "nbconvert_exporter": "python",
   "pygments_lexer": "ipython3",
   "version": "3.10.11"
  },
  "orig_nbformat": 4,
  "vscode": {
   "interpreter": {
    "hash": "2d58e898dde0263bc564c6968b04150abacfd33eed9b19aaa8e45c040360e146"
   }
  }
 },
 "nbformat": 4,
 "nbformat_minor": 2
}
