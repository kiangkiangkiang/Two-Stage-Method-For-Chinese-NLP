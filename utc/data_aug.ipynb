{
 "cells": [
  {
   "cell_type": "markdown",
   "metadata": {},
   "source": [
    "#### 資料"
   ]
  },
  {
   "cell_type": "code",
   "execution_count": null,
   "metadata": {},
   "outputs": [],
   "source": [
    "# get all data\n",
    "!python label_studio.py --save_dir ./all_data --splits 1 0 0 --options labelstudio_data/label.txt"
   ]
  },
  {
   "cell_type": "code",
   "execution_count": 12,
   "metadata": {},
   "outputs": [
    {
     "name": "stdout",
     "output_type": "stream",
     "text": [
      "875\n",
      "Label 0, 頭頸部: 265.\n",
      "Label 1, 臉: 173.\n",
      "Label 2, 胸部: 186.\n",
      "Label 3, 腹部: 117.\n",
      "Label 4, 背部: 64.\n",
      "Label 5, 骨盆: 92.\n",
      "Label 6, 上肢: 426.\n",
      "Label 7, 下肢: 513.\n",
      "Label 8, 其他: 52.\n",
      "Label 9, 骨折: 404.\n",
      "Label 10, 骨裂: 3.\n",
      "Label 11, 擦挫傷: 460.\n",
      "Label 12, 撕裂傷: 138.\n",
      "Label 13, 鈍傷: 59.\n",
      "Label 14, 損傷: 100.\n",
      "Label 15, 胸部損傷: 44.\n",
      "Label 16, 神經損傷: 64.\n",
      "Label 17, 拉傷: 19.\n",
      "Label 18, 扭傷: 34.\n",
      "Label 19, 灼傷: 6.\n",
      "Label 20, 脫位: 68.\n",
      "Label 21, 壓迫: 41.\n",
      "Label 22, 破缺損: 112.\n",
      "Label 23, 腦震盪: 62.\n",
      "Label 24, 壞死: 8.\n",
      "Label 25, 內出血: 113.\n",
      "Label 26, 水腫: 0.\n",
      "Label 27, 瘀血: 27.\n",
      "Label 28, 栓塞: 1.\n",
      "Label 29, 剝離: 0.\n",
      "Label 30, 截肢: 6.\n",
      "Label 31, 衰竭: 9.\n",
      "Label 32, 休克: 10.\n",
      "Label 33, 失能: 13.\n",
      "Label 34, 死亡: 29.\n",
      "Label 35, 其他: 0.\n",
      "Label 36, 肇責 0/100: 96.\n",
      "Label 37, 肇責 10/90: 11.\n",
      "Label 38, 肇責 20/80: 39.\n",
      "Label 39, 肇責 30/70: 106.\n",
      "Label 40, 肇責 40/60: 33.\n",
      "Label 41, 肇責 50/50: 52.\n",
      "Label 42, 肇責 60/40: 47.\n",
      "Label 43, 肇責 70/30: 49.\n",
      "Label 44, 肇責 80/20: 8.\n",
      "Label 45, 肇責 90/10: 2.\n",
      "Label 46, 肇責 100/0: 15.\n",
      "Label 47, 未滿18歲(高中以下): 10.\n",
      "Label 48, 18-24歲(大學、研究所): 40.\n",
      "Label 49, 25-29歲: 23.\n",
      "Label 50, 30-39歲: 38.\n",
      "Label 51, 40-49歲: 40.\n",
      "Label 52, 50-59歲: 41.\n",
      "Label 53, 60-64歲: 15.\n",
      "Label 54, 65歲以上(退休): 48.\n"
     ]
    }
   ],
   "source": [
    "import os\n",
    "import json\n",
    "\n",
    "\n",
    "def collect_label_information(\n",
    "    label_file: str = \"/home/ubuntu/work_debug/verdict-cls-debug/utc/zero_shot_text_classification/data/label.txt\",\n",
    "):\n",
    "    label_name = []\n",
    "    label_count = {}\n",
    "    with open(label_file, \"r\") as f:\n",
    "        for i, name in enumerate(f):\n",
    "            label_count[i] = 0\n",
    "            label_name.append(name.strip())\n",
    "    return label_name, label_count\n",
    "\n",
    "\n",
    "currentdir = os.getcwd()\n",
    "filedir = \"zero_shot_text_classification/all_data/train.txt\"\n",
    "label_name, label_distribution = collect_label_information()\n",
    "total_num_of_label = len(label_name)\n",
    "all_data = []\n",
    "\n",
    "\n",
    "dir = os.path.join(currentdir, filedir)\n",
    "with open(dir, \"r\", encoding=\"utf8\") as f:\n",
    "    # tmp = f.readlines()\n",
    "    for i in f:\n",
    "        this_json = json.loads(i)\n",
    "        all_data.append(this_json)\n",
    "        for each_label in this_json[\"labels\"]:\n",
    "            label_distribution[each_label] += 1\n",
    "\n",
    "print(len(all_data))\n",
    "for each_label, each_name in zip(label_distribution, label_name):\n",
    "    print(f\"Label {each_label}, {each_name}: {label_distribution[each_label]}.\")\n",
    "\n",
    "def get_label_less_than(threshold = 10):\n",
    "    print(f\"------ All labels which cases are less than {threshold} are shown as follow. -----\")\n",
    "    result = {}\n",
    "    for each_label, each_name in zip(label_distribution, label_name):\n",
    "        if label_distribution[each_label] < threshold:\n",
    "            print(f\"Label: {each_label}, {each_name} is {label_distribution[each_label]}.\")\n",
    "            result[each_label] = (label_distribution[each_label], each_name)\n",
    "    return result\n",
    "\n",
    "              "
   ]
  },
  {
   "cell_type": "markdown",
   "metadata": {},
   "source": [
    "#### Case 1. 類別少於 Threshold 則刪除該類別"
   ]
  },
  {
   "cell_type": "code",
   "execution_count": 16,
   "metadata": {},
   "outputs": [
    {
     "name": "stdout",
     "output_type": "stream",
     "text": [
      "------ All labels which cases are less than 10 are shown as follow. -----\n",
      "Label: 10, 骨裂 is 3.\n",
      "Label: 19, 灼傷 is 6.\n",
      "Label: 24, 壞死 is 8.\n",
      "Label: 26, 水腫 is 0.\n",
      "Label: 28, 栓塞 is 1.\n",
      "Label: 29, 剝離 is 0.\n",
      "Label: 30, 截肢 is 6.\n",
      "Label: 31, 衰竭 is 9.\n",
      "Label: 35, 其他 is 0.\n",
      "Label: 44, 肇責 80/20 is 8.\n",
      "Label: 45, 肇責 90/10 is 2.\n",
      "{10: (3, '骨裂'), 19: (6, '灼傷'), 24: (8, '壞死'), 26: (0, '水腫'), 28: (1, '栓塞'), 29: (0, '剝離'), 30: (6, '截肢'), 31: (9, '衰竭'), 35: (0, '其他'), 44: (8, '肇責 80/20'), 45: (2, '肇責 90/10')}\n"
     ]
    }
   ],
   "source": [
    "remove_set = get_label_less_than(10)\n",
    "print(remove_set)"
   ]
  },
  {
   "cell_type": "code",
   "execution_count": 19,
   "metadata": {},
   "outputs": [],
   "source": [
    "import numpy as np\n",
    "from collections import defaultdict\n",
    "def remove_sparse_data():\n",
    "    new_label_distribution = defaultdict(int)\n",
    "    result = []\n",
    "    with open(os.path.join(os.getcwd(), \"zero_shot_text_classification/all_data/train.txt\")) as f:\n",
    "        for i in f:\n",
    "            example = json.loads(i)\n",
    "            this_label = []\n",
    "            for label in example['labels']:\n",
    "                this_label.append(example['choices'][label])\n",
    "\n",
    "            # remove label\n",
    "            for remove_label, remove_name in remove_set.items():\n",
    "                remove_name = remove_name[1]\n",
    "                pop_index = np.where(np.array(example['choices']) == remove_name)[0][0]\n",
    "                example['choices'].pop(pop_index)\n",
    "\n",
    "                if remove_name in this_label:\n",
    "                    pop_index = np.where(np.array(this_label) == remove_name)[0][0]\n",
    "                    this_label.pop(pop_index)\n",
    "\n",
    "            # add new label\n",
    "            new_label = []\n",
    "            for label in this_label:\n",
    "                label_index = np.where(np.array(example['choices']) == label)[0][0]\n",
    "                new_label_distribution[label_index] += 1\n",
    "                new_label.append(label_index)\n",
    "            example['labels'] = new_label\n",
    "            result.append(example)\n",
    "    return result, new_label_distribution\n",
    "\n",
    "remove_name = [label_name for _, label_name in remove_set.values()]\n",
    "\n",
    "\n",
    "new_data, new_label_distribution = remove_sparse_data()"
   ]
  },
  {
   "cell_type": "code",
   "execution_count": null,
   "metadata": {},
   "outputs": [],
   "source": [
    "new_data"
   ]
  },
  {
   "cell_type": "markdown",
   "metadata": {},
   "source": [
    "#### Case 2. 類別合併"
   ]
  },
  {
   "cell_type": "code",
   "execution_count": 25,
   "metadata": {},
   "outputs": [],
   "source": []
  },
  {
   "cell_type": "markdown",
   "metadata": {},
   "source": [
    "#### Case 3. 複製少量類別的樣本"
   ]
  },
  {
   "cell_type": "code",
   "execution_count": null,
   "metadata": {},
   "outputs": [],
   "source": []
  }
 ],
 "metadata": {
  "kernelspec": {
   "display_name": "Python 3.10.11 ('pytorch')",
   "language": "python",
   "name": "python3"
  },
  "language_info": {
   "codemirror_mode": {
    "name": "ipython",
    "version": 3
   },
   "file_extension": ".py",
   "mimetype": "text/x-python",
   "name": "python",
   "nbconvert_exporter": "python",
   "pygments_lexer": "ipython3",
   "version": "3.10.11"
  },
  "orig_nbformat": 4,
  "vscode": {
   "interpreter": {
    "hash": "2d58e898dde0263bc564c6968b04150abacfd33eed9b19aaa8e45c040360e146"
   }
  }
 },
 "nbformat": 4,
 "nbformat_minor": 2
}
