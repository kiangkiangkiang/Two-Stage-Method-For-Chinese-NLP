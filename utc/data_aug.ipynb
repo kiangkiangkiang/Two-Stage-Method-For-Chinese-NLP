{
 "cells": [
  {
   "cell_type": "markdown",
   "metadata": {},
   "source": [
    "#### 資料"
   ]
  },
  {
   "cell_type": "code",
   "execution_count": null,
   "metadata": {},
   "outputs": [],
   "source": [
    "# get all data\n",
    "!python label_studio.py --save_dir ./all_data --splits 1 0 0 --options labelstudio_data/label.txt"
   ]
  },
  {
   "cell_type": "code",
   "execution_count": 12,
   "metadata": {},
   "outputs": [
    {
     "name": "stdout",
     "output_type": "stream",
     "text": [
      "875\n",
      "Label 0, 頭頸部: 265.\n",
      "Label 1, 臉: 173.\n",
      "Label 2, 胸部: 186.\n",
      "Label 3, 腹部: 117.\n",
      "Label 4, 背部: 64.\n",
      "Label 5, 骨盆: 92.\n",
      "Label 6, 上肢: 426.\n",
      "Label 7, 下肢: 513.\n",
      "Label 8, 其他: 52.\n",
      "Label 9, 骨折: 404.\n",
      "Label 10, 骨裂: 3.\n",
      "Label 11, 擦挫傷: 460.\n",
      "Label 12, 撕裂傷: 138.\n",
      "Label 13, 鈍傷: 59.\n",
      "Label 14, 損傷: 100.\n",
      "Label 15, 胸部損傷: 44.\n",
      "Label 16, 神經損傷: 64.\n",
      "Label 17, 拉傷: 19.\n",
      "Label 18, 扭傷: 34.\n",
      "Label 19, 灼傷: 6.\n",
      "Label 20, 脫位: 68.\n",
      "Label 21, 壓迫: 41.\n",
      "Label 22, 破缺損: 112.\n",
      "Label 23, 腦震盪: 62.\n",
      "Label 24, 壞死: 8.\n",
      "Label 25, 內出血: 113.\n",
      "Label 26, 水腫: 0.\n",
      "Label 27, 瘀血: 27.\n",
      "Label 28, 栓塞: 1.\n",
      "Label 29, 剝離: 0.\n",
      "Label 30, 截肢: 6.\n",
      "Label 31, 衰竭: 9.\n",
      "Label 32, 休克: 10.\n",
      "Label 33, 失能: 13.\n",
      "Label 34, 死亡: 29.\n",
      "Label 35, 其他: 0.\n",
      "Label 36, 肇責 0/100: 96.\n",
      "Label 37, 肇責 10/90: 11.\n",
      "Label 38, 肇責 20/80: 39.\n",
      "Label 39, 肇責 30/70: 106.\n",
      "Label 40, 肇責 40/60: 33.\n",
      "Label 41, 肇責 50/50: 52.\n",
      "Label 42, 肇責 60/40: 47.\n",
      "Label 43, 肇責 70/30: 49.\n",
      "Label 44, 肇責 80/20: 8.\n",
      "Label 45, 肇責 90/10: 2.\n",
      "Label 46, 肇責 100/0: 15.\n",
      "Label 47, 未滿18歲(高中以下): 10.\n",
      "Label 48, 18-24歲(大學、研究所): 40.\n",
      "Label 49, 25-29歲: 23.\n",
      "Label 50, 30-39歲: 38.\n",
      "Label 51, 40-49歲: 40.\n",
      "Label 52, 50-59歲: 41.\n",
      "Label 53, 60-64歲: 15.\n",
      "Label 54, 65歲以上(退休): 48.\n"
     ]
    }
   ],
   "source": [
    "import os\n",
    "import json\n",
    "\n",
    "\n",
    "def collect_label_information(\n",
    "    label_file: str = \"/home/ubuntu/work_debug/verdict-cls-debug/utc/zero_shot_text_classification/data/label.txt\",\n",
    "):\n",
    "    label_name = []\n",
    "    label_count = {}\n",
    "    with open(label_file, \"r\") as f:\n",
    "        for i, name in enumerate(f):\n",
    "            label_count[i] = 0\n",
    "            label_name.append(name.strip())\n",
    "    return label_name, label_count\n",
    "\n",
    "\n",
    "currentdir = os.getcwd()\n",
    "filedir = \"zero_shot_text_classification/all_data/train.txt\"\n",
    "label_name, label_distribution = collect_label_information()\n",
    "total_num_of_label = len(label_name)\n",
    "all_data = []\n",
    "\n",
    "\n",
    "dir = os.path.join(currentdir, filedir)\n",
    "with open(dir, \"r\", encoding=\"utf8\") as f:\n",
    "    # tmp = f.readlines()\n",
    "    for i in f:\n",
    "        this_json = json.loads(i)\n",
    "        all_data.append(this_json)\n",
    "        for each_label in this_json[\"labels\"]:\n",
    "            label_distribution[each_label] += 1\n",
    "\n",
    "print(len(all_data))\n",
    "for each_label, each_name in zip(label_distribution, label_name):\n",
    "    print(f\"Label {each_label}, {each_name}: {label_distribution[each_label]}.\")\n",
    "\n",
    "def get_label_less_than(threshold = 10):\n",
    "    print(f\"------ All labels which cases are less than {threshold} are shown as follow. -----\")\n",
    "    result = {}\n",
    "    for each_label, each_name in zip(label_distribution, label_name):\n",
    "        if label_distribution[each_label] < threshold:\n",
    "            print(f\"Label: {each_label}, {each_name} is {label_distribution[each_label]}.\")\n",
    "            result[each_label] = (label_distribution[each_label], each_name)\n",
    "    return result\n",
    "\n",
    "              "
   ]
  },
  {
   "cell_type": "code",
   "execution_count": 70,
   "metadata": {},
   "outputs": [],
   "source": [
    "# write data\n",
    "data_type = ['train', 'dev', 'test']\n",
    "def split_data(data, split_ratio=[0.8, 0.1, 0.1], folder_name: str = \"remove_sparse_data\"):\n",
    "    p1 = int(len(data) * split_ratio[0])\n",
    "    p2 = int(len(data) * split_ratio[1])\n",
    "    output_data = (data[:p1], data[p1:p2], data[p2:])\n",
    "    \n",
    "    for each_data_type, out_data in zip(data_type, output_data):\n",
    "        with open(os.path.join(os.getcwd(), \"zero_shot_text_classification/\", folder_name, each_data_type+ \".txt\"), 'w', encoding='utf-8') as outfile:\n",
    "            jsonString = json.dumps(out_data, ensure_ascii=False, default=int)\n",
    "            outfile.write(jsonString)"
   ]
  },
  {
   "cell_type": "markdown",
   "metadata": {},
   "source": [
    "#### Case 1. 類別少於 Threshold 則刪除該類別"
   ]
  },
  {
   "cell_type": "code",
   "execution_count": 46,
   "metadata": {},
   "outputs": [
    {
     "name": "stdout",
     "output_type": "stream",
     "text": [
      "------ All labels which cases are less than 10 are shown as follow. -----\n",
      "Label: 10, 骨裂 is 3.\n",
      "Label: 19, 灼傷 is 6.\n",
      "Label: 24, 壞死 is 8.\n",
      "Label: 26, 水腫 is 0.\n",
      "Label: 28, 栓塞 is 1.\n",
      "Label: 29, 剝離 is 0.\n",
      "Label: 30, 截肢 is 6.\n",
      "Label: 31, 衰竭 is 9.\n",
      "Label: 35, 其他 is 0.\n",
      "Label: 44, 肇責 80/20 is 8.\n",
      "Label: 45, 肇責 90/10 is 2.\n",
      "{10: (3, '骨裂'), 19: (6, '灼傷'), 24: (8, '壞死'), 26: (0, '水腫'), 28: (1, '栓塞'), 29: (0, '剝離'), 30: (6, '截肢'), 31: (9, '衰竭'), 35: (0, '其他受傷程度'), 44: (8, '肇責 80/20'), 45: (2, '肇責 90/10')}\n"
     ]
    }
   ],
   "source": [
    "remove_set = get_label_less_than(10)\n",
    "remove_set[35] = (0, \"其他受傷程度\")\n",
    "print(remove_set)"
   ]
  },
  {
   "cell_type": "code",
   "execution_count": 49,
   "metadata": {},
   "outputs": [],
   "source": [
    "import numpy as np\n",
    "from collections import defaultdict\n",
    "def remove_sparse_data():\n",
    "    new_label_distribution = defaultdict(int)\n",
    "    result = []\n",
    "    with open(os.path.join(os.getcwd(), \"zero_shot_text_classification/all_data/train.txt\")) as f:\n",
    "        for i in f:\n",
    "            example = json.loads(i)\n",
    "            example['choices'][8] = \"其他體傷部位\"\n",
    "            example['choices'][35] = \"其他受傷程度\"\n",
    "            this_label = []\n",
    "            \n",
    "            for label in example['labels']:\n",
    "                this_label.append(example['choices'][label])        \n",
    "\n",
    "            # remove label\n",
    "            for remove_label, remove_name in remove_set.items():\n",
    "                remove_name = remove_name[1]\n",
    "                pop_index = np.where(np.array(example['choices']) == remove_name)[0][0]\n",
    "                example['choices'].pop(pop_index)\n",
    "                 \n",
    "                if remove_name in this_label:\n",
    "                    pop_index = np.where(np.array(this_label) == remove_name)[0][0]\n",
    "                    this_label.pop(pop_index)\n",
    "\n",
    "            # add new label\n",
    "            new_label = []\n",
    "            \n",
    "            for label in this_label:\n",
    "                label_index = np.where(np.array(example['choices']) == label)[0][0]\n",
    "                new_label_distribution[label_index] += 1\n",
    "                new_label.append(label_index)\n",
    "            example['labels'] = new_label\n",
    "            result.append(example)\n",
    "    return result, new_label_distribution\n",
    "\n",
    "\n",
    "remove_name = [label_name for _, label_name in remove_set.values()]\n",
    "\n",
    "\n",
    "new_data, new_label_distribution = remove_sparse_data()"
   ]
  },
  {
   "cell_type": "code",
   "execution_count": 50,
   "metadata": {},
   "outputs": [
    {
     "data": {
      "text/plain": [
       "[(0, 265),\n",
       " (1, 173),\n",
       " (2, 186),\n",
       " (3, 117),\n",
       " (4, 64),\n",
       " (5, 92),\n",
       " (6, 426),\n",
       " (7, 513),\n",
       " (8, 52),\n",
       " (9, 404),\n",
       " (10, 460),\n",
       " (11, 138),\n",
       " (12, 59),\n",
       " (13, 100),\n",
       " (14, 44),\n",
       " (15, 64),\n",
       " (16, 19),\n",
       " (17, 34),\n",
       " (18, 68),\n",
       " (19, 41),\n",
       " (20, 112),\n",
       " (21, 62),\n",
       " (22, 113),\n",
       " (23, 27),\n",
       " (24, 10),\n",
       " (25, 13),\n",
       " (26, 29),\n",
       " (27, 96),\n",
       " (28, 11),\n",
       " (29, 39),\n",
       " (30, 106),\n",
       " (31, 33),\n",
       " (32, 52),\n",
       " (33, 47),\n",
       " (34, 49),\n",
       " (35, 15),\n",
       " (36, 10),\n",
       " (37, 40),\n",
       " (38, 23),\n",
       " (39, 38),\n",
       " (40, 40),\n",
       " (41, 41),\n",
       " (42, 15),\n",
       " (43, 48)]"
      ]
     },
     "execution_count": 50,
     "metadata": {},
     "output_type": "execute_result"
    }
   ],
   "source": [
    "new_label_distribution\n",
    "sorted(new_label_distribution.items(), key=lambda x: x[0])"
   ]
  },
  {
   "cell_type": "code",
   "execution_count": 71,
   "metadata": {},
   "outputs": [],
   "source": [
    "split_data(new_data)\n",
    "# text = \"\\n\".join([str({'b':2}),str({'a':1})])\n",
    "# with open('try.txt','w') as f:\n",
    "#    f.write(text)"
   ]
  },
  {
   "cell_type": "markdown",
   "metadata": {},
   "source": [
    "#### Case 2. 類別合併"
   ]
  },
  {
   "cell_type": "code",
   "execution_count": 25,
   "metadata": {},
   "outputs": [],
   "source": []
  },
  {
   "cell_type": "markdown",
   "metadata": {},
   "source": [
    "#### Case 3. 複製少量類別的樣本"
   ]
  },
  {
   "cell_type": "code",
   "execution_count": null,
   "metadata": {},
   "outputs": [],
   "source": []
  }
 ],
 "metadata": {
  "kernelspec": {
   "display_name": "Python 3.10.11 ('pytorch')",
   "language": "python",
   "name": "python3"
  },
  "language_info": {
   "codemirror_mode": {
    "name": "ipython",
    "version": 3
   },
   "file_extension": ".py",
   "mimetype": "text/x-python",
   "name": "python",
   "nbconvert_exporter": "python",
   "pygments_lexer": "ipython3",
   "version": "3.10.11"
  },
  "orig_nbformat": 4,
  "vscode": {
   "interpreter": {
    "hash": "2d58e898dde0263bc564c6968b04150abacfd33eed9b19aaa8e45c040360e146"
   }
  }
 },
 "nbformat": 4,
 "nbformat_minor": 2
}
