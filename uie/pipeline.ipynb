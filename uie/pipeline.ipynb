{
 "cells": [
  {
   "cell_type": "code",
   "execution_count": null,
   "metadata": {},
   "outputs": [],
   "source": [
    "python labelstudio2doccano.py --labelstudio_file ./label_studio_data/uie_for_utc.json                                                         "
   ]
  },
  {
   "cell_type": "code",
   "execution_count": null,
   "metadata": {},
   "outputs": [],
   "source": [
    "python doccano.py"
   ]
  },
  {
   "cell_type": "code",
   "execution_count": null,
   "metadata": {},
   "outputs": [],
   "source": [
    "python finetune.py  \\\n",
    "    --device gpu \\\n",
    "    --logging_steps 10 \\\n",
    "    --save_steps 50 \\\n",
    "    --eval_steps 50 \\\n",
    "    --seed 42 \\\n",
    "    --model_name_or_path uie-base \\\n",
    "    --output_dir ./checkpoint/model_best \\\n",
    "    --train_path data/train.txt \\\n",
    "    --dev_path data/dev.txt  \\\n",
    "    --max_seq_length 512  \\\n",
    "    --per_device_eval_batch_size 16 \\\n",
    "    --per_device_train_batch_size  16 \\\n",
    "    --num_train_epochs 1 \\\n",
    "    --learning_rate 1e-5 \\\n",
    "    --label_names \"start_positions\" \"end_positions\" \\\n",
    "    --do_train \\\n",
    "    --do_eval \\\n",
    "    --do_export \\\n",
    "    --export_model_dir ./checkpoint/model_best \\\n",
    "    --overwrite_output_dir \\\n",
    "    --disable_tqdm True \\\n",
    "    --metric_for_best_model eval_recall \\\n",
    "    --load_best_model_at_end  True \\\n",
    "    --save_total_limit 1"
   ]
  },
  {
   "cell_type": "code",
   "execution_count": null,
   "metadata": {},
   "outputs": [],
   "source": [
    "python filter_text.py --model_name_or_path checkpoint/model_best/checkpoint-1000/ --index_of_toy_data 1"
   ]
  }
 ],
 "metadata": {
  "kernelspec": {
   "display_name": "Python 3.10.11 ('pytorch')",
   "language": "python",
   "name": "python3"
  },
  "language_info": {
   "name": "python",
   "version": "3.10.11"
  },
  "orig_nbformat": 4,
  "vscode": {
   "interpreter": {
    "hash": "2d58e898dde0263bc564c6968b04150abacfd33eed9b19aaa8e45c040360e146"
   }
  }
 },
 "nbformat": 4,
 "nbformat_minor": 2
}
