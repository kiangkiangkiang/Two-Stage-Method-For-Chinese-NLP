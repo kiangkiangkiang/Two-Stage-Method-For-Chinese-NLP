{
 "cells": [
  {
   "cell_type": "markdown",
   "metadata": {},
   "source": [
    "#### Note:\n",
    "\n",
    "1. 進入點：verdict-cls-debug/uie\n",
    "2. 標好的 label studio output 放在 ./label_studio_data 內"
   ]
  },
  {
   "cell_type": "markdown",
   "metadata": {},
   "source": [
    "##### step 1\n",
    "把 label studio output 轉成 Doccano 格式"
   ]
  },
  {
   "cell_type": "code",
   "execution_count": null,
   "metadata": {},
   "outputs": [],
   "source": [
    "python labelstudio2doccano.py --labelstudio_file ./label_studio_data/uie_for_utc_general_plus.json                                                         "
   ]
  },
  {
   "cell_type": "markdown",
   "metadata": {},
   "source": [
    "##### step 2\n",
    "切 step 1 的 output 切成 train/dev/test"
   ]
  },
  {
   "cell_type": "code",
   "execution_count": null,
   "metadata": {},
   "outputs": [],
   "source": [
    "python doccano.py"
   ]
  },
  {
   "cell_type": "markdown",
   "metadata": {},
   "source": [
    "##### step 3\n",
    "開train\n",
    "\n",
    "跑越久不一定越好，模型可能反而容易預測空值\n",
    "\n",
    "最好的checkpoint怎麼train 我忘了"
   ]
  },
  {
   "cell_type": "code",
   "execution_count": null,
   "metadata": {},
   "outputs": [],
   "source": [
    "python finetune.py  \\\n",
    "    --device gpu \\\n",
    "    --logging_steps 10 \\\n",
    "    --save_steps 100 \\\n",
    "    --eval_steps 100 \\\n",
    "    --seed 1000 \\\n",
    "    --model_name_or_path uie-base \\\n",
    "    --output_dir ./checkpoint/model_best \\\n",
    "    --train_path data/train.txt \\\n",
    "    --dev_path data/dev.txt  \\\n",
    "    --max_seq_length 512  \\\n",
    "    --per_device_eval_batch_size 16 \\\n",
    "    --per_device_train_batch_size  16 \\\n",
    "    --num_train_epochs 30  \\\n",
    "    --learning_rate 5e-6 \\\n",
    "    --label_names \"start_positions\" \"end_positions\" \\\n",
    "    --do_train \\\n",
    "    --do_eval \\\n",
    "    --do_export \\\n",
    "    --export_model_dir ./checkpoint/model_best \\\n",
    "    --overwrite_output_dir \\\n",
    "    --disable_tqdm True \\\n",
    "    --metric_for_best_model eval_recall \\\n",
    "    --load_best_model_at_end  True \\\n",
    "    --save_total_limit 1 "
   ]
  },
  {
   "cell_type": "markdown",
   "metadata": {},
   "source": [
    "Eval"
   ]
  },
  {
   "cell_type": "code",
   "execution_count": null,
   "metadata": {},
   "outputs": [],
   "source": [
    "python evaluate.py --model_path checkpoint/model_best/checkpoint-700 --test_path data/dev.txt"
   ]
  },
  {
   "cell_type": "markdown",
   "metadata": {},
   "source": [
    "實驗看看模型的擷取能力如何"
   ]
  },
  {
   "cell_type": "code",
   "execution_count": null,
   "metadata": {},
   "outputs": [],
   "source": [
    "python filter_text.py --model_name_or_path checkpoint/model_best/ --index_of_toy_data 0"
   ]
  },
  {
   "cell_type": "markdown",
   "metadata": {},
   "source": [
    "正式用 UIE 擷取文本 （下面這段可以不用跑）"
   ]
  },
  {
   "cell_type": "code",
   "execution_count": null,
   "metadata": {},
   "outputs": [],
   "source": [
    "python uie_preprocessing.py --max_seq_len 768 --threshold 0.0 --uie_model_name_or_path ../../uie/checkpoint/use_checkpoint/checkpoint-700 --out_folder_name uie_30_data_768_2"
   ]
  }
 ],
 "metadata": {
  "kernelspec": {
   "display_name": "Python 3.8.10 ('venv_pytorch': venv)",
   "language": "python",
   "name": "python3"
  },
  "language_info": {
   "codemirror_mode": {
    "name": "ipython",
    "version": 3
   },
   "file_extension": ".py",
   "mimetype": "text/x-python",
   "name": "python",
   "nbconvert_exporter": "python",
   "pygments_lexer": "ipython3",
   "version": "3.8.10"
  },
  "orig_nbformat": 4,
  "vscode": {
   "interpreter": {
    "hash": "cf46acb013efd0588f6afec6d5cfc3a8d59196ff594941befc7df90c31a68b6c"
   }
  }
 },
 "nbformat": 4,
 "nbformat_minor": 2
}
